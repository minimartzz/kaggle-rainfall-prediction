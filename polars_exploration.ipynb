{
 "cells": [
  {
   "cell_type": "markdown",
   "metadata": {},
   "source": [
    "# Data Exploration Using Polars"
   ]
  },
  {
   "cell_type": "markdown",
   "metadata": {},
   "source": [
    "Using this notebook as a chance to explore the usage of Polars (as compared to pandas) for data processing"
   ]
  },
  {
   "cell_type": "markdown",
   "metadata": {},
   "source": [
    "| Date | User | Change Type | Remarks |  \n",
    "| ---- | ---- | ----------- | ------- |\n",
    "| 09/03/2025   | Martin | Create  | Created notebook, started exploration. Beginning with basic Polars API | "
   ]
  },
  {
   "cell_type": "markdown",
   "metadata": {
    "vscode": {
     "languageId": "plaintext"
    }
   },
   "source": [
    "# Content\n",
    "\n",
    "* [Polars API](#polars-api)"
   ]
  },
  {
   "cell_type": "markdown",
   "metadata": {},
   "source": [
    "# Polars API"
   ]
  },
  {
   "cell_type": "code",
   "execution_count": null,
   "metadata": {},
   "outputs": [],
   "source": [
    "%load_ext watermark\n",
    "import polars as pl\n",
    "import datetime as dt"
   ]
  },
  {
   "cell_type": "code",
   "execution_count": 17,
   "metadata": {},
   "outputs": [
    {
     "data": {
      "text/html": [
       "<div><style>\n",
       ".dataframe > thead > tr,\n",
       ".dataframe > tbody > tr {\n",
       "  text-align: right;\n",
       "  white-space: pre-wrap;\n",
       "}\n",
       "</style>\n",
       "<small>shape: (2_190, 13)</small><table border=\"1\" class=\"dataframe\"><thead><tr><th>id</th><th>day</th><th>pressure</th><th>maxtemp</th><th>temparature</th><th>mintemp</th><th>dewpoint</th><th>humidity</th><th>cloud</th><th>sunshine</th><th>winddirection</th><th>windspeed</th><th>rainfall</th></tr><tr><td>i64</td><td>i64</td><td>f64</td><td>f64</td><td>f64</td><td>f64</td><td>f64</td><td>f64</td><td>f64</td><td>f64</td><td>f64</td><td>f64</td><td>i64</td></tr></thead><tbody><tr><td>0</td><td>1</td><td>1017.4</td><td>21.2</td><td>20.6</td><td>19.9</td><td>19.4</td><td>87.0</td><td>88.0</td><td>1.1</td><td>60.0</td><td>17.2</td><td>1</td></tr><tr><td>1</td><td>2</td><td>1019.5</td><td>16.2</td><td>16.9</td><td>15.8</td><td>15.4</td><td>95.0</td><td>91.0</td><td>0.0</td><td>50.0</td><td>21.9</td><td>1</td></tr><tr><td>2</td><td>3</td><td>1024.1</td><td>19.4</td><td>16.1</td><td>14.6</td><td>9.3</td><td>75.0</td><td>47.0</td><td>8.3</td><td>70.0</td><td>18.1</td><td>1</td></tr><tr><td>3</td><td>4</td><td>1013.4</td><td>18.1</td><td>17.8</td><td>16.9</td><td>16.8</td><td>95.0</td><td>95.0</td><td>0.0</td><td>60.0</td><td>35.6</td><td>1</td></tr><tr><td>4</td><td>5</td><td>1021.8</td><td>21.3</td><td>18.4</td><td>15.2</td><td>9.6</td><td>52.0</td><td>45.0</td><td>3.6</td><td>40.0</td><td>24.8</td><td>0</td></tr><tr><td>&hellip;</td><td>&hellip;</td><td>&hellip;</td><td>&hellip;</td><td>&hellip;</td><td>&hellip;</td><td>&hellip;</td><td>&hellip;</td><td>&hellip;</td><td>&hellip;</td><td>&hellip;</td><td>&hellip;</td><td>&hellip;</td></tr><tr><td>2185</td><td>361</td><td>1014.6</td><td>23.2</td><td>20.6</td><td>19.1</td><td>19.9</td><td>97.0</td><td>88.0</td><td>0.1</td><td>40.0</td><td>22.1</td><td>1</td></tr><tr><td>2186</td><td>362</td><td>1012.4</td><td>17.2</td><td>17.3</td><td>16.3</td><td>15.3</td><td>91.0</td><td>88.0</td><td>0.0</td><td>50.0</td><td>35.3</td><td>1</td></tr><tr><td>2187</td><td>363</td><td>1013.3</td><td>19.0</td><td>16.3</td><td>14.3</td><td>12.6</td><td>79.0</td><td>79.0</td><td>5.0</td><td>40.0</td><td>32.9</td><td>1</td></tr><tr><td>2188</td><td>364</td><td>1022.3</td><td>16.4</td><td>15.2</td><td>13.8</td><td>14.7</td><td>92.0</td><td>93.0</td><td>0.1</td><td>40.0</td><td>18.0</td><td>1</td></tr><tr><td>2189</td><td>365</td><td>1013.8</td><td>21.2</td><td>19.1</td><td>18.0</td><td>18.0</td><td>89.0</td><td>88.0</td><td>1.0</td><td>70.0</td><td>48.0</td><td>1</td></tr></tbody></table></div>"
      ],
      "text/plain": [
       "shape: (2_190, 13)\n",
       "┌──────┬─────┬──────────┬─────────┬───┬──────────┬───────────────┬───────────┬──────────┐\n",
       "│ id   ┆ day ┆ pressure ┆ maxtemp ┆ … ┆ sunshine ┆ winddirection ┆ windspeed ┆ rainfall │\n",
       "│ ---  ┆ --- ┆ ---      ┆ ---     ┆   ┆ ---      ┆ ---           ┆ ---       ┆ ---      │\n",
       "│ i64  ┆ i64 ┆ f64      ┆ f64     ┆   ┆ f64      ┆ f64           ┆ f64       ┆ i64      │\n",
       "╞══════╪═════╪══════════╪═════════╪═══╪══════════╪═══════════════╪═══════════╪══════════╡\n",
       "│ 0    ┆ 1   ┆ 1017.4   ┆ 21.2    ┆ … ┆ 1.1      ┆ 60.0          ┆ 17.2      ┆ 1        │\n",
       "│ 1    ┆ 2   ┆ 1019.5   ┆ 16.2    ┆ … ┆ 0.0      ┆ 50.0          ┆ 21.9      ┆ 1        │\n",
       "│ 2    ┆ 3   ┆ 1024.1   ┆ 19.4    ┆ … ┆ 8.3      ┆ 70.0          ┆ 18.1      ┆ 1        │\n",
       "│ 3    ┆ 4   ┆ 1013.4   ┆ 18.1    ┆ … ┆ 0.0      ┆ 60.0          ┆ 35.6      ┆ 1        │\n",
       "│ 4    ┆ 5   ┆ 1021.8   ┆ 21.3    ┆ … ┆ 3.6      ┆ 40.0          ┆ 24.8      ┆ 0        │\n",
       "│ …    ┆ …   ┆ …        ┆ …       ┆ … ┆ …        ┆ …             ┆ …         ┆ …        │\n",
       "│ 2185 ┆ 361 ┆ 1014.6   ┆ 23.2    ┆ … ┆ 0.1      ┆ 40.0          ┆ 22.1      ┆ 1        │\n",
       "│ 2186 ┆ 362 ┆ 1012.4   ┆ 17.2    ┆ … ┆ 0.0      ┆ 50.0          ┆ 35.3      ┆ 1        │\n",
       "│ 2187 ┆ 363 ┆ 1013.3   ┆ 19.0    ┆ … ┆ 5.0      ┆ 40.0          ┆ 32.9      ┆ 1        │\n",
       "│ 2188 ┆ 364 ┆ 1022.3   ┆ 16.4    ┆ … ┆ 0.1      ┆ 40.0          ┆ 18.0      ┆ 1        │\n",
       "│ 2189 ┆ 365 ┆ 1013.8   ┆ 21.2    ┆ … ┆ 1.0      ┆ 70.0          ┆ 48.0      ┆ 1        │\n",
       "└──────┴─────┴──────────┴─────────┴───┴──────────┴───────────────┴───────────┴──────────┘"
      ]
     },
     "execution_count": 17,
     "metadata": {},
     "output_type": "execute_result"
    }
   ],
   "source": [
    "df = pl.read_csv(\"train.csv\", try_parse_dates=True)\n",
    "df"
   ]
  },
  {
   "cell_type": "code",
   "execution_count": 18,
   "metadata": {},
   "outputs": [
    {
     "data": {
      "text/html": [
       "<div><style>\n",
       ".dataframe > thead > tr,\n",
       ".dataframe > tbody > tr {\n",
       "  text-align: right;\n",
       "  white-space: pre-wrap;\n",
       "}\n",
       "</style>\n",
       "<small>shape: (2_190, 2)</small><table border=\"1\" class=\"dataframe\"><thead><tr><th>day</th><th>pressure</th></tr><tr><td>i64</td><td>f64</td></tr></thead><tbody><tr><td>1</td><td>457260.256</td></tr><tr><td>2</td><td>267557.58</td></tr><tr><td>3</td><td>385430.276</td></tr><tr><td>4</td><td>331999.974</td></tr><tr><td>5</td><td>463580.442</td></tr><tr><td>&hellip;</td><td>&hellip;</td></tr><tr><td>361</td><td>546098.304</td></tr><tr><td>362</td><td>299508.416</td></tr><tr><td>363</td><td>365801.3</td></tr><tr><td>364</td><td>274957.808</td></tr><tr><td>365</td><td>455642.272</td></tr></tbody></table></div>"
      ],
      "text/plain": [
       "shape: (2_190, 2)\n",
       "┌─────┬────────────┐\n",
       "│ day ┆ pressure   │\n",
       "│ --- ┆ ---        │\n",
       "│ i64 ┆ f64        │\n",
       "╞═════╪════════════╡\n",
       "│ 1   ┆ 457260.256 │\n",
       "│ 2   ┆ 267557.58  │\n",
       "│ 3   ┆ 385430.276 │\n",
       "│ 4   ┆ 331999.974 │\n",
       "│ 5   ┆ 463580.442 │\n",
       "│ …   ┆ …          │\n",
       "│ 361 ┆ 546098.304 │\n",
       "│ 362 ┆ 299508.416 │\n",
       "│ 363 ┆ 365801.3   │\n",
       "│ 364 ┆ 274957.808 │\n",
       "│ 365 ┆ 455642.272 │\n",
       "└─────┴────────────┘"
      ]
     },
     "execution_count": 18,
     "metadata": {},
     "output_type": "execute_result"
    }
   ],
   "source": [
    "# Selecting columns\n",
    "df.select(\n",
    "  pl.col('day'),\n",
    "  pl.col('pressure') * pl.col('maxtemp') ** 2\n",
    ")"
   ]
  },
  {
   "cell_type": "code",
   "execution_count": 19,
   "metadata": {},
   "outputs": [
    {
     "data": {
      "text/html": [
       "<div><style>\n",
       ".dataframe > thead > tr,\n",
       ".dataframe > tbody > tr {\n",
       "  text-align: right;\n",
       "  white-space: pre-wrap;\n",
       "}\n",
       "</style>\n",
       "<small>shape: (2_190, 3)</small><table border=\"1\" class=\"dataframe\"><thead><tr><th>day</th><th>mintemp_in_fah</th><th>maxtemp_in_fah</th></tr><tr><td>i64</td><td>f64</td><td>f64</td></tr></thead><tbody><tr><td>1</td><td>67.82</td><td>70.16</td></tr><tr><td>2</td><td>60.44</td><td>61.16</td></tr><tr><td>3</td><td>58.28</td><td>66.92</td></tr><tr><td>4</td><td>62.42</td><td>64.58</td></tr><tr><td>5</td><td>59.36</td><td>70.34</td></tr><tr><td>&hellip;</td><td>&hellip;</td><td>&hellip;</td></tr><tr><td>361</td><td>66.38</td><td>73.76</td></tr><tr><td>362</td><td>61.34</td><td>62.96</td></tr><tr><td>363</td><td>57.74</td><td>66.2</td></tr><tr><td>364</td><td>56.84</td><td>61.52</td></tr><tr><td>365</td><td>64.4</td><td>70.16</td></tr></tbody></table></div>"
      ],
      "text/plain": [
       "shape: (2_190, 3)\n",
       "┌─────┬────────────────┬────────────────┐\n",
       "│ day ┆ mintemp_in_fah ┆ maxtemp_in_fah │\n",
       "│ --- ┆ ---            ┆ ---            │\n",
       "│ i64 ┆ f64            ┆ f64            │\n",
       "╞═════╪════════════════╪════════════════╡\n",
       "│ 1   ┆ 67.82          ┆ 70.16          │\n",
       "│ 2   ┆ 60.44          ┆ 61.16          │\n",
       "│ 3   ┆ 58.28          ┆ 66.92          │\n",
       "│ 4   ┆ 62.42          ┆ 64.58          │\n",
       "│ 5   ┆ 59.36          ┆ 70.34          │\n",
       "│ …   ┆ …              ┆ …              │\n",
       "│ 361 ┆ 66.38          ┆ 73.76          │\n",
       "│ 362 ┆ 61.34          ┆ 62.96          │\n",
       "│ 363 ┆ 57.74          ┆ 66.2           │\n",
       "│ 364 ┆ 56.84          ┆ 61.52          │\n",
       "│ 365 ┆ 64.4           ┆ 70.16          │\n",
       "└─────┴────────────────┴────────────────┘"
      ]
     },
     "execution_count": 19,
     "metadata": {},
     "output_type": "execute_result"
    }
   ],
   "source": [
    "# Applying the same set of functions to multiple columns\n",
    "df.select(\n",
    "  pl.col('day'),\n",
    "  (pl.col('mintemp', 'maxtemp') * (9/5) + 32).round(2).name.suffix(\"_in_fah\")\n",
    ")"
   ]
  },
  {
   "cell_type": "code",
   "execution_count": 20,
   "metadata": {},
   "outputs": [
    {
     "data": {
      "text/html": [
       "<div><style>\n",
       ".dataframe > thead > tr,\n",
       ".dataframe > tbody > tr {\n",
       "  text-align: right;\n",
       "  white-space: pre-wrap;\n",
       "}\n",
       "</style>\n",
       "<small>shape: (2_190, 15)</small><table border=\"1\" class=\"dataframe\"><thead><tr><th>id</th><th>day</th><th>pressure</th><th>maxtemp</th><th>temparature</th><th>mintemp</th><th>dewpoint</th><th>humidity</th><th>cloud</th><th>sunshine</th><th>winddirection</th><th>windspeed</th><th>rainfall</th><th>lots_of_sunshine</th><th>high_windspeed</th></tr><tr><td>i64</td><td>i64</td><td>f64</td><td>f64</td><td>f64</td><td>f64</td><td>f64</td><td>f64</td><td>f64</td><td>f64</td><td>f64</td><td>f64</td><td>i64</td><td>bool</td><td>bool</td></tr></thead><tbody><tr><td>0</td><td>1</td><td>1017.4</td><td>21.2</td><td>20.6</td><td>19.9</td><td>19.4</td><td>87.0</td><td>88.0</td><td>1.1</td><td>60.0</td><td>17.2</td><td>1</td><td>false</td><td>true</td></tr><tr><td>1</td><td>2</td><td>1019.5</td><td>16.2</td><td>16.9</td><td>15.8</td><td>15.4</td><td>95.0</td><td>91.0</td><td>0.0</td><td>50.0</td><td>21.9</td><td>1</td><td>false</td><td>true</td></tr><tr><td>2</td><td>3</td><td>1024.1</td><td>19.4</td><td>16.1</td><td>14.6</td><td>9.3</td><td>75.0</td><td>47.0</td><td>8.3</td><td>70.0</td><td>18.1</td><td>1</td><td>true</td><td>true</td></tr><tr><td>3</td><td>4</td><td>1013.4</td><td>18.1</td><td>17.8</td><td>16.9</td><td>16.8</td><td>95.0</td><td>95.0</td><td>0.0</td><td>60.0</td><td>35.6</td><td>1</td><td>false</td><td>true</td></tr><tr><td>4</td><td>5</td><td>1021.8</td><td>21.3</td><td>18.4</td><td>15.2</td><td>9.6</td><td>52.0</td><td>45.0</td><td>3.6</td><td>40.0</td><td>24.8</td><td>0</td><td>false</td><td>true</td></tr><tr><td>&hellip;</td><td>&hellip;</td><td>&hellip;</td><td>&hellip;</td><td>&hellip;</td><td>&hellip;</td><td>&hellip;</td><td>&hellip;</td><td>&hellip;</td><td>&hellip;</td><td>&hellip;</td><td>&hellip;</td><td>&hellip;</td><td>&hellip;</td><td>&hellip;</td></tr><tr><td>2185</td><td>361</td><td>1014.6</td><td>23.2</td><td>20.6</td><td>19.1</td><td>19.9</td><td>97.0</td><td>88.0</td><td>0.1</td><td>40.0</td><td>22.1</td><td>1</td><td>false</td><td>true</td></tr><tr><td>2186</td><td>362</td><td>1012.4</td><td>17.2</td><td>17.3</td><td>16.3</td><td>15.3</td><td>91.0</td><td>88.0</td><td>0.0</td><td>50.0</td><td>35.3</td><td>1</td><td>false</td><td>true</td></tr><tr><td>2187</td><td>363</td><td>1013.3</td><td>19.0</td><td>16.3</td><td>14.3</td><td>12.6</td><td>79.0</td><td>79.0</td><td>5.0</td><td>40.0</td><td>32.9</td><td>1</td><td>true</td><td>true</td></tr><tr><td>2188</td><td>364</td><td>1022.3</td><td>16.4</td><td>15.2</td><td>13.8</td><td>14.7</td><td>92.0</td><td>93.0</td><td>0.1</td><td>40.0</td><td>18.0</td><td>1</td><td>false</td><td>true</td></tr><tr><td>2189</td><td>365</td><td>1013.8</td><td>21.2</td><td>19.1</td><td>18.0</td><td>18.0</td><td>89.0</td><td>88.0</td><td>1.0</td><td>70.0</td><td>48.0</td><td>1</td><td>false</td><td>true</td></tr></tbody></table></div>"
      ],
      "text/plain": [
       "shape: (2_190, 15)\n",
       "┌──────┬─────┬──────────┬─────────┬───┬───────────┬──────────┬──────────────────┬────────────────┐\n",
       "│ id   ┆ day ┆ pressure ┆ maxtemp ┆ … ┆ windspeed ┆ rainfall ┆ lots_of_sunshine ┆ high_windspeed │\n",
       "│ ---  ┆ --- ┆ ---      ┆ ---     ┆   ┆ ---       ┆ ---      ┆ ---              ┆ ---            │\n",
       "│ i64  ┆ i64 ┆ f64      ┆ f64     ┆   ┆ f64       ┆ i64      ┆ bool             ┆ bool           │\n",
       "╞══════╪═════╪══════════╪═════════╪═══╪═══════════╪══════════╪══════════════════╪════════════════╡\n",
       "│ 0    ┆ 1   ┆ 1017.4   ┆ 21.2    ┆ … ┆ 17.2      ┆ 1        ┆ false            ┆ true           │\n",
       "│ 1    ┆ 2   ┆ 1019.5   ┆ 16.2    ┆ … ┆ 21.9      ┆ 1        ┆ false            ┆ true           │\n",
       "│ 2    ┆ 3   ┆ 1024.1   ┆ 19.4    ┆ … ┆ 18.1      ┆ 1        ┆ true             ┆ true           │\n",
       "│ 3    ┆ 4   ┆ 1013.4   ┆ 18.1    ┆ … ┆ 35.6      ┆ 1        ┆ false            ┆ true           │\n",
       "│ 4    ┆ 5   ┆ 1021.8   ┆ 21.3    ┆ … ┆ 24.8      ┆ 0        ┆ false            ┆ true           │\n",
       "│ …    ┆ …   ┆ …        ┆ …       ┆ … ┆ …         ┆ …        ┆ …                ┆ …              │\n",
       "│ 2185 ┆ 361 ┆ 1014.6   ┆ 23.2    ┆ … ┆ 22.1      ┆ 1        ┆ false            ┆ true           │\n",
       "│ 2186 ┆ 362 ┆ 1012.4   ┆ 17.2    ┆ … ┆ 35.3      ┆ 1        ┆ false            ┆ true           │\n",
       "│ 2187 ┆ 363 ┆ 1013.3   ┆ 19.0    ┆ … ┆ 32.9      ┆ 1        ┆ true             ┆ true           │\n",
       "│ 2188 ┆ 364 ┆ 1022.3   ┆ 16.4    ┆ … ┆ 18.0      ┆ 1        ┆ false            ┆ true           │\n",
       "│ 2189 ┆ 365 ┆ 1013.8   ┆ 21.2    ┆ … ┆ 48.0      ┆ 1        ┆ false            ┆ true           │\n",
       "└──────┴─────┴──────────┴─────────┴───┴───────────┴──────────┴──────────────────┴────────────────┘"
      ]
     },
     "execution_count": 20,
     "metadata": {},
     "output_type": "execute_result"
    }
   ],
   "source": [
    "# With columns - adds new columns on top of existing ones\n",
    "df.with_columns(\n",
    "  lots_of_sunshine=pl.col(\"sunshine\") > 4,\n",
    "  high_windspeed=pl.col('windspeed') > 11\n",
    ")"
   ]
  },
  {
   "cell_type": "code",
   "execution_count": 21,
   "metadata": {},
   "outputs": [
    {
     "data": {
      "text/html": [
       "<div><style>\n",
       ".dataframe > thead > tr,\n",
       ".dataframe > tbody > tr {\n",
       "  text-align: right;\n",
       "  white-space: pre-wrap;\n",
       "}\n",
       "</style>\n",
       "<small>shape: (69, 13)</small><table border=\"1\" class=\"dataframe\"><thead><tr><th>id</th><th>day</th><th>pressure</th><th>maxtemp</th><th>temparature</th><th>mintemp</th><th>dewpoint</th><th>humidity</th><th>cloud</th><th>sunshine</th><th>winddirection</th><th>windspeed</th><th>rainfall</th></tr><tr><td>i64</td><td>i64</td><td>f64</td><td>f64</td><td>f64</td><td>f64</td><td>f64</td><td>f64</td><td>f64</td><td>f64</td><td>f64</td><td>f64</td><td>i64</td></tr></thead><tbody><tr><td>3</td><td>4</td><td>1013.4</td><td>18.1</td><td>17.8</td><td>16.9</td><td>16.8</td><td>95.0</td><td>95.0</td><td>0.0</td><td>60.0</td><td>35.6</td><td>1</td></tr><tr><td>11</td><td>12</td><td>1012.5</td><td>16.2</td><td>15.2</td><td>14.0</td><td>12.4</td><td>98.0</td><td>100.0</td><td>0.0</td><td>50.0</td><td>23.5</td><td>1</td></tr><tr><td>23</td><td>24</td><td>1013.0</td><td>24.8</td><td>19.9</td><td>17.1</td><td>18.1</td><td>90.0</td><td>92.0</td><td>0.0</td><td>70.0</td><td>30.4</td><td>1</td></tr><tr><td>67</td><td>68</td><td>1014.2</td><td>18.4</td><td>18.0</td><td>17.2</td><td>17.4</td><td>97.0</td><td>95.0</td><td>0.0</td><td>40.0</td><td>22.9</td><td>1</td></tr><tr><td>311</td><td>312</td><td>1014.5</td><td>22.4</td><td>19.3</td><td>17.6</td><td>13.5</td><td>67.0</td><td>72.0</td><td>6.1</td><td>70.0</td><td>35.3</td><td>0</td></tr><tr><td>&hellip;</td><td>&hellip;</td><td>&hellip;</td><td>&hellip;</td><td>&hellip;</td><td>&hellip;</td><td>&hellip;</td><td>&hellip;</td><td>&hellip;</td><td>&hellip;</td><td>&hellip;</td><td>&hellip;</td><td>&hellip;</td></tr><tr><td>1885</td><td>61</td><td>1012.2</td><td>20.4</td><td>17.8</td><td>16.9</td><td>16.1</td><td>90.0</td><td>90.0</td><td>2.1</td><td>60.0</td><td>39.7</td><td>1</td></tr><tr><td>1886</td><td>62</td><td>1014.9</td><td>20.8</td><td>18.1</td><td>16.9</td><td>15.8</td><td>78.0</td><td>88.0</td><td>0.0</td><td>20.0</td><td>39.3</td><td>1</td></tr><tr><td>2186</td><td>362</td><td>1012.4</td><td>17.2</td><td>17.3</td><td>16.3</td><td>15.3</td><td>91.0</td><td>88.0</td><td>0.0</td><td>50.0</td><td>35.3</td><td>1</td></tr><tr><td>2187</td><td>363</td><td>1013.3</td><td>19.0</td><td>16.3</td><td>14.3</td><td>12.6</td><td>79.0</td><td>79.0</td><td>5.0</td><td>40.0</td><td>32.9</td><td>1</td></tr><tr><td>2189</td><td>365</td><td>1013.8</td><td>21.2</td><td>19.1</td><td>18.0</td><td>18.0</td><td>89.0</td><td>88.0</td><td>1.0</td><td>70.0</td><td>48.0</td><td>1</td></tr></tbody></table></div>"
      ],
      "text/plain": [
       "shape: (69, 13)\n",
       "┌──────┬─────┬──────────┬─────────┬───┬──────────┬───────────────┬───────────┬──────────┐\n",
       "│ id   ┆ day ┆ pressure ┆ maxtemp ┆ … ┆ sunshine ┆ winddirection ┆ windspeed ┆ rainfall │\n",
       "│ ---  ┆ --- ┆ ---      ┆ ---     ┆   ┆ ---      ┆ ---           ┆ ---       ┆ ---      │\n",
       "│ i64  ┆ i64 ┆ f64      ┆ f64     ┆   ┆ f64      ┆ f64           ┆ f64       ┆ i64      │\n",
       "╞══════╪═════╪══════════╪═════════╪═══╪══════════╪═══════════════╪═══════════╪══════════╡\n",
       "│ 3    ┆ 4   ┆ 1013.4   ┆ 18.1    ┆ … ┆ 0.0      ┆ 60.0          ┆ 35.6      ┆ 1        │\n",
       "│ 11   ┆ 12  ┆ 1012.5   ┆ 16.2    ┆ … ┆ 0.0      ┆ 50.0          ┆ 23.5      ┆ 1        │\n",
       "│ 23   ┆ 24  ┆ 1013.0   ┆ 24.8    ┆ … ┆ 0.0      ┆ 70.0          ┆ 30.4      ┆ 1        │\n",
       "│ 67   ┆ 68  ┆ 1014.2   ┆ 18.4    ┆ … ┆ 0.0      ┆ 40.0          ┆ 22.9      ┆ 1        │\n",
       "│ 311  ┆ 312 ┆ 1014.5   ┆ 22.4    ┆ … ┆ 6.1      ┆ 70.0          ┆ 35.3      ┆ 0        │\n",
       "│ …    ┆ …   ┆ …        ┆ …       ┆ … ┆ …        ┆ …             ┆ …         ┆ …        │\n",
       "│ 1885 ┆ 61  ┆ 1012.2   ┆ 20.4    ┆ … ┆ 2.1      ┆ 60.0          ┆ 39.7      ┆ 1        │\n",
       "│ 1886 ┆ 62  ┆ 1014.9   ┆ 20.8    ┆ … ┆ 0.0      ┆ 20.0          ┆ 39.3      ┆ 1        │\n",
       "│ 2186 ┆ 362 ┆ 1012.4   ┆ 17.2    ┆ … ┆ 0.0      ┆ 50.0          ┆ 35.3      ┆ 1        │\n",
       "│ 2187 ┆ 363 ┆ 1013.3   ┆ 19.0    ┆ … ┆ 5.0      ┆ 40.0          ┆ 32.9      ┆ 1        │\n",
       "│ 2189 ┆ 365 ┆ 1013.8   ┆ 21.2    ┆ … ┆ 1.0      ┆ 70.0          ┆ 48.0      ┆ 1        │\n",
       "└──────┴─────┴──────────┴─────────┴───┴──────────┴───────────────┴───────────┴──────────┘"
      ]
     },
     "execution_count": 21,
     "metadata": {},
     "output_type": "execute_result"
    }
   ],
   "source": [
    "# Filter - creates a second dataframe based on the conditions\n",
    "df.filter(\n",
    "  pl.col('pressure') < 1015,\n",
    "  pl.col('temparature') > 15,\n",
    "  pl.col('temparature') < 20\n",
    ")"
   ]
  },
  {
   "cell_type": "code",
   "execution_count": 22,
   "metadata": {},
   "outputs": [
    {
     "data": {
      "text/html": [
       "<div><style>\n",
       ".dataframe > thead > tr,\n",
       ".dataframe > tbody > tr {\n",
       "  text-align: right;\n",
       "  white-space: pre-wrap;\n",
       "}\n",
       "</style>\n",
       "<small>shape: (35, 3)</small><table border=\"1\" class=\"dataframe\"><thead><tr><th>windgroup</th><th>sample_size</th><th>avg_pressure</th></tr><tr><td>f64</td><td>u32</td><td>f64</td></tr></thead><tbody><tr><td>110.0</td><td>20</td><td>1009.81</td></tr><tr><td>230.0</td><td>142</td><td>1008.04</td></tr><tr><td>25.0</td><td>3</td><td>1015.97</td></tr><tr><td>65.0</td><td>1</td><td>1011.8</td></tr><tr><td>140.0</td><td>7</td><td>1011.36</td></tr><tr><td>&hellip;</td><td>&hellip;</td><td>&hellip;</td></tr><tr><td>40.0</td><td>230</td><td>1016.63</td></tr><tr><td>75.0</td><td>1</td><td>1007.6</td></tr><tr><td>160.0</td><td>6</td><td>1008.13</td></tr><tr><td>270.0</td><td>10</td><td>1009.1</td></tr><tr><td>250.3</td><td>1</td><td>1005.9</td></tr></tbody></table></div>"
      ],
      "text/plain": [
       "shape: (35, 3)\n",
       "┌───────────┬─────────────┬──────────────┐\n",
       "│ windgroup ┆ sample_size ┆ avg_pressure │\n",
       "│ ---       ┆ ---         ┆ ---          │\n",
       "│ f64       ┆ u32         ┆ f64          │\n",
       "╞═══════════╪═════════════╪══════════════╡\n",
       "│ 110.0     ┆ 20          ┆ 1009.81      │\n",
       "│ 230.0     ┆ 142         ┆ 1008.04      │\n",
       "│ 25.0      ┆ 3           ┆ 1015.97      │\n",
       "│ 65.0      ┆ 1           ┆ 1011.8       │\n",
       "│ 140.0     ┆ 7           ┆ 1011.36      │\n",
       "│ …         ┆ …           ┆ …            │\n",
       "│ 40.0      ┆ 230         ┆ 1016.63      │\n",
       "│ 75.0      ┆ 1           ┆ 1007.6       │\n",
       "│ 160.0     ┆ 6           ┆ 1008.13      │\n",
       "│ 270.0     ┆ 10          ┆ 1009.1       │\n",
       "│ 250.3     ┆ 1           ┆ 1005.9       │\n",
       "└───────────┴─────────────┴──────────────┘"
      ]
     },
     "execution_count": 22,
     "metadata": {},
     "output_type": "execute_result"
    }
   ],
   "source": [
    "# group_by - group by syntax\n",
    "df.group_by(\n",
    "  (pl.col('winddirection')).alias('windgroup')\n",
    ").agg(\n",
    "  pl.len().alias('sample_size'),\n",
    "  pl.col('pressure').mean().round(2).alias('avg_pressure')\n",
    ")"
   ]
  },
  {
   "cell_type": "code",
   "execution_count": 23,
   "metadata": {},
   "outputs": [
    {
     "data": {
      "text/html": [
       "<div><style>\n",
       ".dataframe > thead > tr,\n",
       ".dataframe > tbody > tr {\n",
       "  text-align: right;\n",
       "  white-space: pre-wrap;\n",
       "}\n",
       "</style>\n",
       "<small>shape: (8, 1)</small><table border=\"1\" class=\"dataframe\"><thead><tr><th>value_squared</th></tr><tr><td>i64</td></tr></thead><tbody><tr><td>1</td></tr><tr><td>4</td></tr><tr><td>9</td></tr><tr><td>16</td></tr><tr><td>25</td></tr><tr><td>36</td></tr><tr><td>49</td></tr><tr><td>64</td></tr></tbody></table></div>"
      ],
      "text/plain": [
       "shape: (8, 1)\n",
       "┌───────────────┐\n",
       "│ value_squared │\n",
       "│ ---           │\n",
       "│ i64           │\n",
       "╞═══════════════╡\n",
       "│ 1             │\n",
       "│ 4             │\n",
       "│ 9             │\n",
       "│ 16            │\n",
       "│ 25            │\n",
       "│ 36            │\n",
       "│ 49            │\n",
       "│ 64            │\n",
       "└───────────────┘"
      ]
     },
     "execution_count": 23,
     "metadata": {},
     "output_type": "execute_result"
    }
   ],
   "source": [
    "# GPU support - some API is not supported by GPU, will defailt to CPU\n",
    "df_gpu = pl.LazyFrame(\n",
    "  {\n",
    "    'key': [1, 1, 1, 2, 3, 3, 2, 2],\n",
    "    'value': [1, 2, 3, 4, 5, 6, 7, 8]\n",
    "  }\n",
    ")\n",
    "\n",
    "p = df_gpu.select((pl.col('value') ** 2).round(2).alias('value_squared')) # GPU available\n",
    "q = df_gpu.select(pl.col('value').sum().over('key')) # GPU not available\n",
    "\n",
    "with pl.Config() as cfg:\n",
    "  cfg.set_verbose(True)\n",
    "  result = p.collect(engine='gpu')\n",
    "  # result = q.collect(engine='gpu')\n",
    "\n",
    "result"
   ]
  },
  {
   "cell_type": "markdown",
   "metadata": {},
   "source": [
    "## Dataframe Inspection"
   ]
  },
  {
   "cell_type": "code",
   "execution_count": null,
   "metadata": {},
   "outputs": [
    {
     "name": "stdout",
     "output_type": "stream",
     "text": [
      "Rows: 2190\n",
      "Columns: 13\n",
      "$ id            <i64> 0, 1, 2, 3, 4, 5, 6, 7, 8, 9\n",
      "$ day           <i64> 1, 2, 3, 4, 5, 6, 7, 8, 9, 10\n",
      "$ pressure      <f64> 1017.4, 1019.5, 1024.1, 1013.4, 1021.8, 1022.7, 1022.8, 1019.7, 1017.4, 1025.4\n",
      "$ maxtemp       <f64> 21.2, 16.2, 19.4, 18.1, 21.3, 20.6, 19.5, 15.8, 17.6, 16.5\n",
      "$ temparature   <f64> 20.6, 16.9, 16.1, 17.8, 18.4, 18.6, 18.4, 13.6, 16.5, 14.4\n",
      "$ mintemp       <f64> 19.9, 15.8, 14.6, 16.9, 15.2, 16.5, 15.3, 12.7, 15.6, 12.0\n",
      "$ dewpoint      <f64> 19.4, 15.4, 9.3, 16.8, 9.6, 12.5, 11.3, 11.8, 12.5, 8.6\n",
      "$ humidity      <f64> 87.0, 95.0, 75.0, 95.0, 52.0, 79.0, 56.0, 96.0, 86.0, 77.0\n",
      "$ cloud         <f64> 88.0, 91.0, 47.0, 95.0, 45.0, 81.0, 46.0, 100.0, 100.0, 84.0\n",
      "$ sunshine      <f64> 1.1, 0.0, 8.3, 0.0, 3.6, 0.0, 7.6, 0.0, 0.0, 1.0\n",
      "$ winddirection <f64> 60.0, 50.0, 70.0, 60.0, 40.0, 20.0, 20.0, 50.0, 50.0, 50.0\n",
      "$ windspeed     <f64> 17.2, 21.9, 18.1, 35.6, 24.8, 15.7, 28.4, 52.8, 37.5, 38.3\n",
      "$ rainfall      <i64> 1, 1, 1, 1, 0, 1, 0, 1, 1, 0\n",
      "\n"
     ]
    }
   ],
   "source": [
    "# Like head but vertical format, good for wide dataframes\n",
    "df.glimpse()"
   ]
  },
  {
   "cell_type": "code",
   "execution_count": 25,
   "metadata": {},
   "outputs": [
    {
     "data": {
      "text/html": [
       "<div><style>\n",
       ".dataframe > thead > tr,\n",
       ".dataframe > tbody > tr {\n",
       "  text-align: right;\n",
       "  white-space: pre-wrap;\n",
       "}\n",
       "</style>\n",
       "<small>shape: (9, 14)</small><table border=\"1\" class=\"dataframe\"><thead><tr><th>statistic</th><th>id</th><th>day</th><th>pressure</th><th>maxtemp</th><th>temparature</th><th>mintemp</th><th>dewpoint</th><th>humidity</th><th>cloud</th><th>sunshine</th><th>winddirection</th><th>windspeed</th><th>rainfall</th></tr><tr><td>str</td><td>f64</td><td>f64</td><td>f64</td><td>f64</td><td>f64</td><td>f64</td><td>f64</td><td>f64</td><td>f64</td><td>f64</td><td>f64</td><td>f64</td><td>f64</td></tr></thead><tbody><tr><td>&quot;count&quot;</td><td>2190.0</td><td>2190.0</td><td>2190.0</td><td>2190.0</td><td>2190.0</td><td>2190.0</td><td>2190.0</td><td>2190.0</td><td>2190.0</td><td>2190.0</td><td>2190.0</td><td>2190.0</td><td>2190.0</td></tr><tr><td>&quot;null_count&quot;</td><td>0.0</td><td>0.0</td><td>0.0</td><td>0.0</td><td>0.0</td><td>0.0</td><td>0.0</td><td>0.0</td><td>0.0</td><td>0.0</td><td>0.0</td><td>0.0</td><td>0.0</td></tr><tr><td>&quot;mean&quot;</td><td>1094.5</td><td>179.948402</td><td>1013.602146</td><td>26.365799</td><td>23.953059</td><td>22.170091</td><td>20.454566</td><td>82.03653</td><td>75.721918</td><td>3.744429</td><td>104.863151</td><td>21.804703</td><td>0.753425</td></tr><tr><td>&quot;std&quot;</td><td>632.342866</td><td>105.203592</td><td>5.655366</td><td>5.65433</td><td>5.22241</td><td>5.05912</td><td>5.288406</td><td>7.800654</td><td>18.026498</td><td>3.626327</td><td>80.002416</td><td>9.898659</td><td>0.431116</td></tr><tr><td>&quot;min&quot;</td><td>0.0</td><td>1.0</td><td>999.0</td><td>10.4</td><td>7.4</td><td>4.0</td><td>-0.3</td><td>39.0</td><td>2.0</td><td>0.0</td><td>10.0</td><td>4.4</td><td>0.0</td></tr><tr><td>&quot;25%&quot;</td><td>547.0</td><td>89.0</td><td>1008.6</td><td>21.3</td><td>19.3</td><td>17.7</td><td>16.8</td><td>77.0</td><td>69.0</td><td>0.4</td><td>40.0</td><td>14.1</td><td>1.0</td></tr><tr><td>&quot;50%&quot;</td><td>1095.0</td><td>179.0</td><td>1013.0</td><td>27.8</td><td>25.5</td><td>23.9</td><td>22.2</td><td>82.0</td><td>83.0</td><td>2.4</td><td>70.0</td><td>20.5</td><td>1.0</td></tr><tr><td>&quot;75%&quot;</td><td>1642.0</td><td>270.0</td><td>1017.8</td><td>31.2</td><td>28.4</td><td>26.4</td><td>25.0</td><td>88.0</td><td>88.0</td><td>6.8</td><td>200.0</td><td>27.9</td><td>1.0</td></tr><tr><td>&quot;max&quot;</td><td>2189.0</td><td>365.0</td><td>1034.6</td><td>36.0</td><td>31.5</td><td>29.8</td><td>26.7</td><td>98.0</td><td>100.0</td><td>12.1</td><td>300.0</td><td>59.5</td><td>1.0</td></tr></tbody></table></div>"
      ],
      "text/plain": [
       "shape: (9, 14)\n",
       "┌────────────┬───────────┬───────────┬───────────┬───┬──────────┬───────────┬───────────┬──────────┐\n",
       "│ statistic  ┆ id        ┆ day       ┆ pressure  ┆ … ┆ sunshine ┆ winddirec ┆ windspeed ┆ rainfall │\n",
       "│ ---        ┆ ---       ┆ ---       ┆ ---       ┆   ┆ ---      ┆ tion      ┆ ---       ┆ ---      │\n",
       "│ str        ┆ f64       ┆ f64       ┆ f64       ┆   ┆ f64      ┆ ---       ┆ f64       ┆ f64      │\n",
       "│            ┆           ┆           ┆           ┆   ┆          ┆ f64       ┆           ┆          │\n",
       "╞════════════╪═══════════╪═══════════╪═══════════╪═══╪══════════╪═══════════╪═══════════╪══════════╡\n",
       "│ count      ┆ 2190.0    ┆ 2190.0    ┆ 2190.0    ┆ … ┆ 2190.0   ┆ 2190.0    ┆ 2190.0    ┆ 2190.0   │\n",
       "│ null_count ┆ 0.0       ┆ 0.0       ┆ 0.0       ┆ … ┆ 0.0      ┆ 0.0       ┆ 0.0       ┆ 0.0      │\n",
       "│ mean       ┆ 1094.5    ┆ 179.94840 ┆ 1013.6021 ┆ … ┆ 3.744429 ┆ 104.86315 ┆ 21.804703 ┆ 0.753425 │\n",
       "│            ┆           ┆ 2         ┆ 46        ┆   ┆          ┆ 1         ┆           ┆          │\n",
       "│ std        ┆ 632.34286 ┆ 105.20359 ┆ 5.655366  ┆ … ┆ 3.626327 ┆ 80.002416 ┆ 9.898659  ┆ 0.431116 │\n",
       "│            ┆ 6         ┆ 2         ┆           ┆   ┆          ┆           ┆           ┆          │\n",
       "│ min        ┆ 0.0       ┆ 1.0       ┆ 999.0     ┆ … ┆ 0.0      ┆ 10.0      ┆ 4.4       ┆ 0.0      │\n",
       "│ 25%        ┆ 547.0     ┆ 89.0      ┆ 1008.6    ┆ … ┆ 0.4      ┆ 40.0      ┆ 14.1      ┆ 1.0      │\n",
       "│ 50%        ┆ 1095.0    ┆ 179.0     ┆ 1013.0    ┆ … ┆ 2.4      ┆ 70.0      ┆ 20.5      ┆ 1.0      │\n",
       "│ 75%        ┆ 1642.0    ┆ 270.0     ┆ 1017.8    ┆ … ┆ 6.8      ┆ 200.0     ┆ 27.9      ┆ 1.0      │\n",
       "│ max        ┆ 2189.0    ┆ 365.0     ┆ 1034.6    ┆ … ┆ 12.1     ┆ 300.0     ┆ 59.5      ┆ 1.0      │\n",
       "└────────────┴───────────┴───────────┴───────────┴───┴──────────┴───────────┴───────────┴──────────┘"
      ]
     },
     "execution_count": 25,
     "metadata": {},
     "output_type": "execute_result"
    }
   ],
   "source": [
    "df.describe()"
   ]
  },
  {
   "cell_type": "code",
   "execution_count": null,
   "metadata": {},
   "outputs": [
    {
     "data": {
      "text/plain": [
       "Schema([('id', Int64),\n",
       "        ('day', Int64),\n",
       "        ('pressure', Float64),\n",
       "        ('maxtemp', Float64),\n",
       "        ('temparature', Float64),\n",
       "        ('mintemp', Float64),\n",
       "        ('dewpoint', Float64),\n",
       "        ('humidity', Float64),\n",
       "        ('cloud', Float64),\n",
       "        ('sunshine', Float64),\n",
       "        ('winddirection', Float64),\n",
       "        ('windspeed', Float64),\n",
       "        ('rainfall', Int64)])"
      ]
     },
     "execution_count": 31,
     "metadata": {},
     "output_type": "execute_result"
    }
   ],
   "source": [
    "# Get the data types of columns in a dataframe - similar to `dtypes`\n",
    "df.schema"
   ]
  },
  {
   "cell_type": "code",
   "execution_count": 33,
   "metadata": {},
   "outputs": [
    {
     "data": {
      "text/html": [
       "<div><style>\n",
       ".dataframe > thead > tr,\n",
       ".dataframe > tbody > tr {\n",
       "  text-align: right;\n",
       "  white-space: pre-wrap;\n",
       "}\n",
       "</style>\n",
       "<small>shape: (4, 2)</small><table border=\"1\" class=\"dataframe\"><thead><tr><th>name</th><th>age</th></tr><tr><td>str</td><td>u8</td></tr></thead><tbody><tr><td>&quot;Alice&quot;</td><td>27</td></tr><tr><td>&quot;Ben&quot;</td><td>39</td></tr><tr><td>&quot;Chloe&quot;</td><td>41</td></tr><tr><td>&quot;Daniel&quot;</td><td>43</td></tr></tbody></table></div>"
      ],
      "text/plain": [
       "shape: (4, 2)\n",
       "┌────────┬─────┐\n",
       "│ name   ┆ age │\n",
       "│ ---    ┆ --- │\n",
       "│ str    ┆ u8  │\n",
       "╞════════╪═════╡\n",
       "│ Alice  ┆ 27  │\n",
       "│ Ben    ┆ 39  │\n",
       "│ Chloe  ┆ 41  │\n",
       "│ Daniel ┆ 43  │\n",
       "└────────┴─────┘"
      ]
     },
     "execution_count": 33,
     "metadata": {},
     "output_type": "execute_result"
    }
   ],
   "source": [
    "# Specify the datatypes with the `schema`, `schema_overrides` parameter when \n",
    "# loading/ creating dataframes\n",
    "pl.DataFrame(\n",
    "  {\n",
    "    \"name\": [\"Alice\", \"Ben\", \"Chloe\", \"Daniel\"],\n",
    "    \"age\": [27, 39, 41, 43],\n",
    "  },\n",
    "  # schema={\"name\": None, \"age\": pl.UInt8},\n",
    "  schema_overrides={'age': pl.UInt8}\n",
    ")"
   ]
  },
  {
   "cell_type": "code",
   "execution_count": 37,
   "metadata": {},
   "outputs": [
    {
     "ename": "AttributeError",
     "evalue": "'generator' object has no attribute 'count'",
     "output_type": "error",
     "traceback": [
      "\u001b[0;31m---------------------------------------------------------------------------\u001b[0m",
      "\u001b[0;31mAttributeError\u001b[0m                            Traceback (most recent call last)",
      "Cell \u001b[0;32mIn[37], line 2\u001b[0m\n\u001b[1;32m      1\u001b[0m gen \u001b[38;5;241m=\u001b[39m (i \u001b[38;5;28;01mfor\u001b[39;00m i \u001b[38;5;129;01min\u001b[39;00m \u001b[38;5;28mrange\u001b[39m(\u001b[38;5;241m10\u001b[39m))\n\u001b[0;32m----> 2\u001b[0m \u001b[43mgen\u001b[49m\u001b[38;5;241;43m.\u001b[39;49m\u001b[43mcount\u001b[49m()\n",
      "\u001b[0;31mAttributeError\u001b[0m: 'generator' object has no attribute 'count'"
     ]
    }
   ],
   "source": [
    "gen = (i for i in range(10))\n",
    "gen.count()"
   ]
  },
  {
   "cell_type": "code",
   "execution_count": 4,
   "metadata": {},
   "outputs": [
    {
     "name": "stdout",
     "output_type": "stream",
     "text": [
      "Last updated: 2025-03-11T22:23:33.747349+08:00\n",
      "\n",
      "Python implementation: CPython\n",
      "Python version       : 3.10.12\n",
      "IPython version      : 8.33.0\n",
      "\n",
      "Compiler    : GCC 11.4.0\n",
      "OS          : Linux\n",
      "Release     : 5.15.167.4-microsoft-standard-WSL2\n",
      "Machine     : x86_64\n",
      "Processor   : x86_64\n",
      "CPU cores   : 20\n",
      "Architecture: 64bit\n",
      "\n"
     ]
    }
   ],
   "source": [
    "%watermark"
   ]
  }
 ],
 "metadata": {
  "kernelspec": {
   "display_name": "py310_env",
   "language": "python",
   "name": "python3"
  },
  "language_info": {
   "codemirror_mode": {
    "name": "ipython",
    "version": 3
   },
   "file_extension": ".py",
   "mimetype": "text/x-python",
   "name": "python",
   "nbconvert_exporter": "python",
   "pygments_lexer": "ipython3",
   "version": "3.10.12"
  }
 },
 "nbformat": 4,
 "nbformat_minor": 2
}
